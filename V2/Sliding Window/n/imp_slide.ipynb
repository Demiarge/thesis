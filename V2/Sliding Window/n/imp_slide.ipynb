{
 "cells": [
  {
   "cell_type": "markdown",
   "metadata": {},
   "source": [
    "# All"
   ]
  },
  {
   "cell_type": "code",
   "execution_count": 5,
   "metadata": {},
   "outputs": [
    {
     "name": "stderr",
     "output_type": "stream",
     "text": [
      "C:\\Users\\Shadow\\AppData\\Local\\Temp\\ipykernel_4732\\1741410104.py:6: DtypeWarning: Columns (8,19,20) have mixed types. Specify dtype option on import or set low_memory=False.\n",
      "  data = pd.read_csv(file_path)\n"
     ]
    },
    {
     "name": "stdout",
     "output_type": "stream",
     "text": [
      "Sliding window data has been saved to modi_data.csv\n",
      "Cleaned original data has been saved to 'original.csv'\n"
     ]
    }
   ],
   "source": [
    "import pandas as pd\n",
    "import numpy as np\n",
    "\n",
    "# Load the dataset\n",
    "file_path = 'dataset.csv'\n",
    "data = pd.read_csv(file_path)\n",
    "\n",
    "# Drop unwanted columns\n",
    "columns_to_delete = ['cmment']\n",
    "data_cleaned = data.drop(columns=columns_to_delete)\n",
    "\n",
    "# Save the cleaned data\n",
    "data_cleaned.to_csv('original.csv', index=False)\n",
    "\n",
    "# Select columns that contain 'unit'\n",
    "energy_columns = [col for col in data_cleaned.columns if 'unit' in col]\n",
    "\n",
    "# Define the sliding window function with padding\n",
    "def sliding_window_with_padding(df, window_size):\n",
    "    sliding_data = []\n",
    "    column_names = []\n",
    "\n",
    "    num_cols = len(df.columns)\n",
    "\n",
    "    # Create appropriate column names for the output DataFrame\n",
    "    for i in range(window_size):\n",
    "        lag = window_size - i - 1\n",
    "        column_names += [f\"{col}_t-{lag}\" for col in df.columns]\n",
    "\n",
    "    # Pad the DataFrame with NaNs at the beginning\n",
    "    padded_df = pd.DataFrame(np.nan, index=range(window_size - 1), columns=df.columns)\n",
    "    df_padded = pd.concat([padded_df, df], ignore_index=True)\n",
    "\n",
    "    # Generate the sliding windows\n",
    "    for i in range(len(df)):\n",
    "        window = df_padded.iloc[i:i + window_size].values.flatten()\n",
    "        sliding_data.append(window)\n",
    "\n",
    "    # Create the DataFrame with sliding windows\n",
    "    sliding_df = pd.DataFrame(sliding_data, columns=column_names)\n",
    "\n",
    "    return sliding_df\n",
    "\n",
    "window_size = 4\n",
    "\n",
    "# Apply the sliding window function with padding\n",
    "sliding_df = sliding_window_with_padding(data_cleaned[energy_columns], window_size)\n",
    "\n",
    "output_file = 'modi_data.csv'\n",
    "sliding_df.to_csv(output_file, index=False)\n",
    "\n",
    "# Output messages\n",
    "print(f\"Sliding window data has been saved to {output_file}\")\n",
    "print(\"Cleaned original data has been saved to 'original.csv'\")\n"
   ]
  },
  {
   "cell_type": "markdown",
   "metadata": {},
   "source": [
    "## Postpaid"
   ]
  },
  {
   "cell_type": "code",
   "execution_count": 6,
   "metadata": {},
   "outputs": [
    {
     "name": "stderr",
     "output_type": "stream",
     "text": [
      "C:\\Users\\Shadow\\AppData\\Local\\Temp\\ipykernel_4732\\2799908050.py:6: DtypeWarning: Columns (8,19,20) have mixed types. Specify dtype option on import or set low_memory=False.\n",
      "  data = pd.read_csv(file_path)\n"
     ]
    },
    {
     "name": "stdout",
     "output_type": "stream",
     "text": [
      "Sliding window data has been saved to post_modi_data.csv\n",
      "Cleaned original data has been saved to 'original.csv'\n"
     ]
    }
   ],
   "source": [
    "import pandas as pd\n",
    "import numpy as np\n",
    "\n",
    "# Load the dataset\n",
    "file_path = 'dataset.csv'\n",
    "data = pd.read_csv(file_path)\n",
    "\n",
    "# Drop unwanted columns\n",
    "columns_to_delete = ['cmment']\n",
    "data_cleaned = data.drop(columns=columns_to_delete)\n",
    "\n",
    "# Save the cleaned data\n",
    "data_cleaned.to_csv('original.csv', index=False)\n",
    "\n",
    "# Select columns that contain 'unit'\n",
    "energy_columns = [col for col in data_cleaned.columns if 'unit' in col and 'post' in col]\n",
    "\n",
    "# Define the sliding window function with padding\n",
    "def sliding_window_with_padding(df, window_size):\n",
    "    sliding_data = []\n",
    "    column_names = []\n",
    "\n",
    "    num_cols = len(df.columns)\n",
    "\n",
    "    # Create appropriate column names for the output DataFrame\n",
    "    for i in range(window_size):\n",
    "        lag = window_size - i - 1\n",
    "        column_names += [f\"{col}_t-{lag}\" for col in df.columns]\n",
    "\n",
    "    # Pad the DataFrame with NaNs at the beginning\n",
    "    padded_df = pd.DataFrame(np.nan, index=range(window_size - 1), columns=df.columns)\n",
    "    df_padded = pd.concat([padded_df, df], ignore_index=True)\n",
    "\n",
    "    # Generate the sliding windows\n",
    "    for i in range(len(df)):\n",
    "        window = df_padded.iloc[i:i + window_size].values.flatten()\n",
    "        sliding_data.append(window)\n",
    "\n",
    "    # Create the DataFrame with sliding windows\n",
    "    sliding_df = pd.DataFrame(sliding_data, columns=column_names)\n",
    "\n",
    "    return sliding_df\n",
    "\n",
    "window_size = 4\n",
    "\n",
    "# Apply the sliding window function with padding\n",
    "sliding_df = sliding_window_with_padding(data_cleaned[energy_columns], window_size)\n",
    "\n",
    "output_file = 'post_modi_data.csv'\n",
    "sliding_df.to_csv(output_file, index=False)\n",
    "\n",
    "# Output messages\n",
    "print(f\"Sliding window data has been saved to {output_file}\")\n",
    "print(\"Cleaned original data has been saved to 'original.csv'\")\n"
   ]
  },
  {
   "cell_type": "markdown",
   "metadata": {},
   "source": [
    "## Prepaid"
   ]
  },
  {
   "cell_type": "code",
   "execution_count": 7,
   "metadata": {},
   "outputs": [
    {
     "name": "stderr",
     "output_type": "stream",
     "text": [
      "C:\\Users\\Shadow\\AppData\\Local\\Temp\\ipykernel_4732\\3611090507.py:6: DtypeWarning: Columns (8,19,20) have mixed types. Specify dtype option on import or set low_memory=False.\n",
      "  data = pd.read_csv(file_path)\n"
     ]
    },
    {
     "name": "stdout",
     "output_type": "stream",
     "text": [
      "Sliding window data has been saved to pre_modi_data.csv\n",
      "Cleaned original data has been saved to 'original.csv'\n"
     ]
    }
   ],
   "source": [
    "import pandas as pd\n",
    "import numpy as np\n",
    "\n",
    "# Load the dataset\n",
    "file_path = 'dataset.csv'\n",
    "data = pd.read_csv(file_path)\n",
    "\n",
    "# Drop unwanted columns\n",
    "columns_to_delete = ['cmment']\n",
    "data_cleaned = data.drop(columns=columns_to_delete)\n",
    "\n",
    "# Save the cleaned data\n",
    "data_cleaned.to_csv('original.csv', index=False)\n",
    "\n",
    "# Select columns that contain 'unit'\n",
    "energy_columns = [col for col in data_cleaned.columns if 'unit' in col and 'pre' in col]\n",
    "\n",
    "# Define the sliding window function with padding\n",
    "def sliding_window_with_padding(df, window_size):\n",
    "    sliding_data = []\n",
    "    column_names = []\n",
    "\n",
    "    num_cols = len(df.columns)\n",
    "\n",
    "    # Create appropriate column names for the output DataFrame\n",
    "    for i in range(window_size):\n",
    "        lag = window_size - i - 1\n",
    "        column_names += [f\"{col}_t-{lag}\" for col in df.columns]\n",
    "\n",
    "    # Pad the DataFrame with NaNs at the beginning\n",
    "    padded_df = pd.DataFrame(np.nan, index=range(window_size - 1), columns=df.columns)\n",
    "    df_padded = pd.concat([padded_df, df], ignore_index=True)\n",
    "\n",
    "    # Generate the sliding windows\n",
    "    for i in range(len(df)):\n",
    "        window = df_padded.iloc[i:i + window_size].values.flatten()\n",
    "        sliding_data.append(window)\n",
    "\n",
    "    # Create the DataFrame with sliding windows\n",
    "    sliding_df = pd.DataFrame(sliding_data, columns=column_names)\n",
    "\n",
    "    return sliding_df\n",
    "\n",
    "window_size = 4\n",
    "\n",
    "# Apply the sliding window function with padding\n",
    "sliding_df = sliding_window_with_padding(data_cleaned[energy_columns], window_size)\n",
    "\n",
    "output_file = 'pre_modi_data.csv'\n",
    "sliding_df.to_csv(output_file, index=False)\n",
    "\n",
    "# Output messages\n",
    "print(f\"Sliding window data has been saved to {output_file}\")\n",
    "print(\"Cleaned original data has been saved to 'original.csv'\")\n"
   ]
  }
 ],
 "metadata": {
  "kernelspec": {
   "display_name": "Python 3",
   "language": "python",
   "name": "python3"
  },
  "language_info": {
   "codemirror_mode": {
    "name": "ipython",
    "version": 3
   },
   "file_extension": ".py",
   "mimetype": "text/x-python",
   "name": "python",
   "nbconvert_exporter": "python",
   "pygments_lexer": "ipython3",
   "version": "3.12.7"
  }
 },
 "nbformat": 4,
 "nbformat_minor": 2
}
