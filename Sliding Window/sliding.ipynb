{
 "cells": [
  {
   "cell_type": "markdown",
   "metadata": {},
   "source": [
    "# Sliding Window"
   ]
  },
  {
   "cell_type": "code",
   "execution_count": 5,
   "metadata": {},
   "outputs": [
    {
     "name": "stdout",
     "output_type": "stream",
     "text": [
      "Current folder permissions: 0o40777\n",
      "Permissions changed successfully!\n"
     ]
    }
   ],
   "source": [
    "# If\n",
    "# PermissionError: [Errno 13] Permission denied: 'C:\\\\Users\\\\Shadow\\\\Desktop\\\\GIT_X\\\\GIT_PE\\\\thesis\\\\Dataset Modification\\\\Final Dataset'\n",
    "\n",
    "# Do;\n",
    "import os\n",
    "import stat\n",
    "\n",
    "# Check current folder permissions\n",
    "folder = \"C:\\\\Users\\\\Shadow\\\\Desktop\\\\GIT_X\\\\GIT_PE\\\\thesis\\\\Dataset Modification\\\\Final Dataset\"\n",
    "permissions = os.stat(folder)\n",
    "print(f\"Current folder permissions: {oct(permissions.st_mode)}\")\n",
    "\n",
    "# Modify folder permissions to give read/write/execute permissions\n",
    "os.chmod(folder, stat.S_IRWXU | stat.S_IRWXG | stat.S_IRWXO)  # Full access for owner, group, others\n",
    "print(\"Permissions changed successfully!\")\n"
   ]
  },
  {
   "cell_type": "code",
   "execution_count": 14,
   "metadata": {},
   "outputs": [
    {
     "name": "stdout",
     "output_type": "stream",
     "text": [
      "      0      1      2      3      4    5      6      7      8    9   ...  \\\n",
      "0  241.0  229.0  246.0  216.0  165.0  128  152.0  143.0  217.0  184  ...   \n",
      "1  396.0  372.0  397.0  323.0  295.0  226  189.0  201.0  307.0  257  ...   \n",
      "2  211.0  213.0  215.0  212.0  149.0  122  109.0   92.0  161.0  208  ...   \n",
      "3  512.0  665.0  632.0  496.0  237.0  192  178.0  155.0  230.0  578  ...   \n",
      "4   83.0   91.0  112.0  179.0   61.0   33   34.0   31.0   76.0   23  ...   \n",
      "\n",
      "       89      90      91      92      93      94      95      96      97  \\\n",
      "0   29.56   76.98  133.51  161.49  162.09  154.12  182.54  176.97  129.48   \n",
      "1  360.11  466.56  508.56  492.02  450.38  544.06   45.22   30.80  132.67   \n",
      "2  111.37  184.10  166.72  206.71  204.02  206.14  190.54  178.58  110.21   \n",
      "3   91.37   49.20  101.47  145.83  126.76   86.99  114.70  137.53   86.01   \n",
      "4  120.26  145.20  135.20  176.38  181.10  167.57  176.57  161.59  155.18   \n",
      "\n",
      "       98  \n",
      "0   67.53  \n",
      "1   51.70  \n",
      "2   78.19  \n",
      "3   33.97  \n",
      "4  108.03  \n",
      "\n",
      "[5 rows x 99 columns]\n"
     ]
    }
   ],
   "source": [
    "import pandas as pd\n",
    "from sklearn.model_selection import train_test_split\n",
    "from sklearn.preprocessing import MinMaxScaler\n",
    "\n",
    "# Load the dataset\n",
    "file_path = 'C:\\\\Users\\\\Shadow\\\\Desktop\\\\GIT_X\\\\GIT_PE\\\\thesis\\\\Dataset Modification\\\\Final Dataset\\\\dataset.csv'\n",
    "data = pd.read_csv(file_path)\n",
    "\n",
    "# Select columns \n",
    "energy_columns = [col for col in data.columns if 'unit' in col]\n",
    "\n",
    "# To create a sliding window dataset\n",
    "def sliding_window(df, window_size):\n",
    "    sliding_data = []\n",
    "    for i in range(len(df) - window_size):\n",
    "        window = df.iloc[i:i + window_size].values.flatten()\n",
    "        sliding_data.append(window)\n",
    "    return pd.DataFrame(sliding_data)\n",
    "\n",
    "# Window size and appling SW\n",
    "window_size = 3\n",
    "sliding_df = sliding_window(data[energy_columns], window_size)\n",
    "\n",
    "# \n",
    "# First few rows of sliding window in dataframe\n",
    "print(sliding_df.head())\n"
   ]
  },
  {
   "cell_type": "code",
   "execution_count": null,
   "metadata": {},
   "outputs": [],
   "source": []
  }
 ],
 "metadata": {
  "kernelspec": {
   "display_name": "Python 3",
   "language": "python",
   "name": "python3"
  },
  "language_info": {
   "codemirror_mode": {
    "name": "ipython",
    "version": 3
   },
   "file_extension": ".py",
   "mimetype": "text/x-python",
   "name": "python",
   "nbconvert_exporter": "python",
   "pygments_lexer": "ipython3",
   "version": "3.12.5"
  }
 },
 "nbformat": 4,
 "nbformat_minor": 2
}
