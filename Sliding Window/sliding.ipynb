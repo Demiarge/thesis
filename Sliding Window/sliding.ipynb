{
 "cells": [
  {
   "cell_type": "markdown",
   "metadata": {},
   "source": [
    "# Sliding Window"
   ]
  },
  {
   "cell_type": "code",
   "execution_count": 5,
   "metadata": {},
   "outputs": [
    {
     "name": "stdout",
     "output_type": "stream",
     "text": [
      "Current folder permissions: 0o40777\n",
      "Permissions changed successfully!\n"
     ]
    }
   ],
   "source": [
    "# If\n",
    "# PermissionError: [Errno 13] Permission denied: 'C:\\\\Users\\\\Shadow\\\\Desktop\\\\GIT_X\\\\GIT_PE\\\\thesis\\\\Dataset Modification\\\\Final Dataset'\n",
    "\n",
    "# Do;\n",
    "import os\n",
    "import stat\n",
    "\n",
    "# Check current folder permissions\n",
    "folder = \"C:\\\\Users\\\\Shadow\\\\Desktop\\\\GIT_X\\\\GIT_PE\\\\thesis\\\\Dataset Modification\\\\Final Dataset\"\n",
    "permissions = os.stat(folder)\n",
    "print(f\"Current folder permissions: {oct(permissions.st_mode)}\")\n",
    "\n",
    "# Modify folder permissions to give read/write/execute permissions\n",
    "os.chmod(folder, stat.S_IRWXU | stat.S_IRWXG | stat.S_IRWXO)  # Full access for owner, group, others\n",
    "print(\"Permissions changed successfully!\")\n"
   ]
  },
  {
   "cell_type": "code",
   "execution_count": 3,
   "metadata": {},
   "outputs": [],
   "source": [
    "import pandas as pd\n",
    "from sklearn.model_selection import train_test_split\n",
    "from sklearn.preprocessing import MinMaxScaler\n",
    "\n",
    "# Load the dataset\n",
    "file_path = 'C:\\\\Users\\\\Shadow\\\\Desktop\\\\GIT_X\\\\GIT_PE\\\\thesis\\\\Dataset Modification\\\\Final Dataset\\\\dataset.csv'\n",
    "data = pd.read_csv(file_path)\n",
    "\n",
    "# Select columns \n",
    "energy_columns = [col for col in data.columns if 'unit' in col]\n",
    "\n",
    "# To create a sliding window dataset\n",
    "def sliding_window(df, window_size):\n",
    "    sliding_data = []\n",
    "    for i in range(len(df) - window_size):\n",
    "        window = df.iloc[i:i + window_size].values.flatten()\n",
    "        sliding_data.append(window)\n",
    "    return pd.DataFrame(sliding_data)\n",
    "\n",
    "# Window size and appling SW\n",
    "window_size = 3\n",
    "sliding_df = sliding_window(data[energy_columns], window_size)\n",
    "\n",
    "# \n",
    "# First few rows of sliding window in dataframe\n",
    "# print(sliding_df.head())\n",
    "\n",
    "df_cleaned = sliding_df \n",
    "df_cleaned.to_csv('modi_data.csv', index=False)"
   ]
  },
  {
   "cell_type": "code",
   "execution_count": null,
   "metadata": {},
   "outputs": [],
   "source": []
  },
  {
   "cell_type": "code",
   "execution_count": 2,
   "metadata": {},
   "outputs": [
    {
     "name": "stdout",
     "output_type": "stream",
     "text": [
      "Sliding window data has been saved to modi_data.csv\n",
      "Cleaned original data has been saved to 'original.csv'\n"
     ]
    }
   ],
   "source": [
    "import pandas as pd\n",
    "\n",
    "# Load the dataset\n",
    "file_path = 'C:\\\\Users\\\\Shadow\\\\Desktop\\\\GIT_X\\\\GIT_PE\\\\thesis\\\\Dataset Modification\\\\Final Dataset\\\\dataset.csv'\n",
    "data = pd.read_csv(file_path)\n",
    "\n",
    "# Columns to delete\n",
    "columns_to_delete = ['post_22_june_unit', 'pre_22_apr_unit', 'pre_22_may_unit']\n",
    "\n",
    "# Delete the specified columns from the DataFrame\n",
    "data_cleaned = data.drop(columns=columns_to_delete)\n",
    "\n",
    "# Save the cleaned original data as 'original.csv'\n",
    "data_cleaned.to_csv('original.csv', index=False)\n",
    "\n",
    "# Select columns that contain 'unit' after cleaning\n",
    "energy_columns = [col for col in data_cleaned.columns if 'unit' in col]\n",
    "\n",
    "# Sliding window function\n",
    "def sliding_window(df, window_size):\n",
    "    sliding_data = []\n",
    "    column_names = []\n",
    "\n",
    "    # Create appropriate column names for the output DataFrame\n",
    "    for i in range(window_size):\n",
    "        column_names += [f\"{col}_t-{window_size-i-1}\" for col in df.columns]\n",
    "\n",
    "    # Generate the sliding windows\n",
    "    for i in range(len(df) - window_size + 1):\n",
    "        window = df.iloc[i:i + window_size].values.flatten()\n",
    "        sliding_data.append(window)\n",
    "\n",
    "    return pd.DataFrame(sliding_data, columns=column_names)\n",
    "\n",
    "# Window size\n",
    "window_size = 4\n",
    "\n",
    "# Apply sliding window on the cleaned data (after deleting unwanted columns)\n",
    "sliding_df = sliding_window(data_cleaned[energy_columns], window_size)\n",
    "\n",
    "# Save the sliding window data to a CSV file\n",
    "output_file = 'modi_data.csv'\n",
    "sliding_df.to_csv(output_file, index=False)\n",
    "\n",
    "# Output confirmation\n",
    "print(f\"Sliding window data has been saved to {output_file}\")\n",
    "print(\"Cleaned original data has been saved to 'original.csv'\")\n"
   ]
  }
 ],
 "metadata": {
  "kernelspec": {
   "display_name": "Python 3",
   "language": "python",
   "name": "python3"
  },
  "language_info": {
   "codemirror_mode": {
    "name": "ipython",
    "version": 3
   },
   "file_extension": ".py",
   "mimetype": "text/x-python",
   "name": "python",
   "nbconvert_exporter": "python",
   "pygments_lexer": "ipython3",
   "version": "3.12.5"
  }
 },
 "nbformat": 4,
 "nbformat_minor": 2
}
