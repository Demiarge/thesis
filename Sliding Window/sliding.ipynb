{
 "cells": [
  {
   "cell_type": "markdown",
   "metadata": {},
   "source": [
    "# Sliding Window"
   ]
  },
  {
   "cell_type": "code",
   "execution_count": 3,
   "metadata": {},
   "outputs": [
    {
     "name": "stdout",
     "output_type": "stream",
     "text": [
      "Sliding window data has been saved to modi_data.csv\n",
      "Cleaned original data has been saved to 'original.csv'\n"
     ]
    }
   ],
   "source": [
    "import pandas as pd\n",
    "\n",
    "# Load the dataset\n",
    "file_path = 'C:\\\\Users\\\\Shadow\\\\Desktop\\\\GIT_X\\\\GIT_PE\\\\thesis\\\\Dataset Modification\\\\Final Dataset\\\\dataset.csv'\n",
    "data = pd.read_csv(file_path)\n",
    "\n",
    "\n",
    "columns_to_delete = ['post_22_june_unit', 'pre_22_apr_unit', 'pre_22_may_unit']\n",
    "\n",
    "\n",
    "data_cleaned = data.drop(columns=columns_to_delete)\n",
    "\n",
    "data_cleaned.to_csv('original.csv', index=False)\n",
    "\n",
    "\n",
    "energy_columns = [col for col in data_cleaned.columns if 'unit' in col]\n",
    "\n",
    "# Sliding window function\n",
    "def sliding_window(df, window_size):\n",
    "    sliding_data = []\n",
    "    column_names = []\n",
    "\n",
    "    # Create appropriate column names for the output DataFrame\n",
    "    for i in range(window_size):\n",
    "        column_names += [f\"{col}_t-{window_size-i-1}\" for col in df.columns]\n",
    "\n",
    "    # Generate the sliding windows\n",
    "    for i in range(len(df) - window_size + 1):\n",
    "        window = df.iloc[i:i + window_size].values.flatten()\n",
    "        sliding_data.append(window)\n",
    "\n",
    "    return pd.DataFrame(sliding_data, columns=column_names)\n",
    "\n",
    "\n",
    "window_size = 4\n",
    "\n",
    "# Apply sliding window on the cleaned data (after deleting unwanted columns)\n",
    "sliding_df = sliding_window(data_cleaned[energy_columns], window_size)\n",
    "\n",
    "output_file = 'modi_data.csv'\n",
    "sliding_df.to_csv(output_file, index=False)\n",
    "\n",
    "# Output \n",
    "print(f\"Sliding window data has been saved to {output_file}\")\n",
    "print(\"Cleaned original data has been saved to 'original.csv'\")\n"
   ]
  }
 ],
 "metadata": {
  "kernelspec": {
   "display_name": "Python 3",
   "language": "python",
   "name": "python3"
  },
  "language_info": {
   "codemirror_mode": {
    "name": "ipython",
    "version": 3
   },
   "file_extension": ".py",
   "mimetype": "text/x-python",
   "name": "python",
   "nbconvert_exporter": "python",
   "pygments_lexer": "ipython3",
   "version": "3.12.6"
  }
 },
 "nbformat": 4,
 "nbformat_minor": 2
}
