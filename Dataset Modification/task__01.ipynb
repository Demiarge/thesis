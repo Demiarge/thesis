{
 "cells": [
  {
   "cell_type": "code",
   "execution_count": 4,
   "metadata": {},
   "outputs": [
    {
     "name": "stdout",
     "output_type": "stream",
     "text": [
      "   Serial  Customer No  Rooms  Members  Fans  Lights  Freezes  Microwave Oven  \\\n",
      "0       1     17704104    5.0      5.0   5.0     8.0      1.0             0.0   \n",
      "1       2     17704119    5.0      4.0   5.0    10.0      2.0             1.0   \n",
      "2       3     16191493    3.0      4.0   3.0     5.0      1.0             0.0   \n",
      "3       4     16191440    4.0      4.0   3.0     9.0      1.0             0.0   \n",
      "4       5     17779252    4.0      3.0   4.0     9.0      2.0             0.0   \n",
      "\n",
      "   Geyser   AC  ...  pre_23_mar_unit pre_23_apr_unit pre_23_may_unit  \\\n",
      "0     0.0  0.0  ...           214.40          243.06          237.66   \n",
      "1     0.0  1.0  ...           239.07          310.98          275.79   \n",
      "2     0.0  0.0  ...            29.56           76.98          133.51   \n",
      "3     0.0  0.0  ...           360.11          466.56          508.56   \n",
      "4     0.0  1.0  ...           111.37          184.10          166.72   \n",
      "\n",
      "   pre_23_june_unit pre_23_jul_unit  pre_23_aug_unit  pre_23_sep_unit  \\\n",
      "0            234.95          243.86           246.42           242.30   \n",
      "1            326.53          333.01           280.32           292.97   \n",
      "2            161.49          162.09           154.12           182.54   \n",
      "3            492.02          450.38           544.06            45.22   \n",
      "4            206.71          204.02           206.14           190.54   \n",
      "\n",
      "   pre_23_oct_unit  pre_23_nov_unit  pre_23_dec_unit  \n",
      "0           235.02           190.16           250.00  \n",
      "1           264.56           224.23           235.60  \n",
      "2           176.97           129.48            67.53  \n",
      "3            30.80           132.67            51.70  \n",
      "4           178.58           110.21            78.19  \n",
      "\n",
      "[5 rows x 49 columns]\n"
     ]
    }
   ],
   "source": [
    "import pandas as pd\n",
    "\n",
    "# Load the dataset\n",
    "dataset_path = 'dataset.csv'\n",
    "df = pd.read_csv(dataset_path)\n",
    "\n",
    "# Display the first few rows of the dataset\n",
    "print(df.head())\n",
    "\n",
    "# Remove empty rows\n",
    "df_cleaned = df.dropna(how='all')\n",
    "\n",
    "# Save the cleaned dataset to a new CSV file\n",
    "df_cleaned.to_csv('modi_data.csv', index=False)\n",
    "print(\"Empty rows removed and new file saved as 'modi_data.csv'.\")\n",
    "\n",
    "\n",
    "print(df.head())"
   ]
  }
 ],
 "metadata": {
  "kernelspec": {
   "display_name": "Python 3",
   "language": "python",
   "name": "python3"
  },
  "language_info": {
   "codemirror_mode": {
    "name": "ipython",
    "version": 3
   },
   "file_extension": ".py",
   "mimetype": "text/x-python",
   "name": "python",
   "nbconvert_exporter": "python",
   "pygments_lexer": "ipython3",
   "version": "3.12.5"
  }
 },
 "nbformat": 4,
 "nbformat_minor": 2
}
