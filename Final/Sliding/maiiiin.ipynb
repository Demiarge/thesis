{
 "cells": [
  {
   "cell_type": "markdown",
   "metadata": {},
   "source": [
    "# new 9;31\n",
    "\n",
    "# All\n"
   ]
  },
  {
   "cell_type": "code",
   "execution_count": 2,
   "metadata": {},
   "outputs": [
    {
     "name": "stdout",
     "output_type": "stream",
     "text": [
      "Sliding window data with 'Customer No' has been saved to modi_data.csv\n"
     ]
    }
   ],
   "source": [
    "import pandas as pd\n",
    "import numpy as np\n",
    "\n",
    "# Load the dataset\n",
    "file_path = 'dataset.csv'  # Update this path to your dataset\n",
    "data = pd.read_csv(file_path, low_memory=False)\n",
    "\n",
    "# Update the customer identifier column name\n",
    "id_column = 'Customer No'  # Assuming 'Customer No' is the correct column\n",
    "\n",
    "# Drop unwanted columns\n",
    "columns_to_delete = ['comment', 'cmment']  # Include all possible variations\n",
    "columns_present = [col for col in columns_to_delete if col in data.columns]\n",
    "data_cleaned = data.drop(columns=columns_present) if columns_present else data\n",
    "\n",
    "# Select columns that contain 'unit'\n",
    "energy_columns = [col for col in data_cleaned.columns if 'unit' in col]\n",
    "\n",
    "# Define the sliding window function\n",
    "def sliding_window(df, window_size):\n",
    "    sliding_data = []\n",
    "    column_names = []\n",
    "\n",
    "    # Create appropriate column names for the output DataFrame\n",
    "    for i in range(window_size):\n",
    "        lag = window_size - i - 1\n",
    "        column_names += [f\"{col}_t-{lag}\" for col in df.columns]\n",
    "\n",
    "    # Generate the sliding windows\n",
    "    for i in range(len(df) - window_size + 1):\n",
    "        window = df.iloc[i:i + window_size].values.flatten()\n",
    "        sliding_data.append(window)\n",
    "\n",
    "    # Create the DataFrame with sliding windows\n",
    "    sliding_df = pd.DataFrame(sliding_data, columns=column_names)\n",
    "\n",
    "    return sliding_df\n",
    "\n",
    "# Set window size\n",
    "window_size = 4  # Adjust the window size as needed\n",
    "\n",
    "# Apply sliding window on the cleaned data (after deleting unwanted columns)\n",
    "sliding_df = sliding_window(data_cleaned[energy_columns], window_size)\n",
    "\n",
    "# Add the 'Customer No' column back after the sliding window process\n",
    "# Since we're processing the entire dataset at once, we can simply slice the customer IDs accordingly\n",
    "sliding_df[id_column] = data_cleaned[id_column][window_size-1:].reset_index(drop=True)\n",
    "\n",
    "# Save the cleaned data\n",
    "output_file = 'modi_data.csv'\n",
    "sliding_df.to_csv(output_file, index=False)\n",
    "\n",
    "# Output message\n",
    "print(f\"Sliding window data with 'Customer No' has been saved to {output_file}\")\n"
   ]
  },
  {
   "cell_type": "markdown",
   "metadata": {},
   "source": [
    "# Prepaid"
   ]
  },
  {
   "cell_type": "code",
   "execution_count": 3,
   "metadata": {},
   "outputs": [
    {
     "name": "stdout",
     "output_type": "stream",
     "text": [
      "Sliding window data with 'Customer No' has been saved to pre_modi_data.csv\n"
     ]
    }
   ],
   "source": [
    "import pandas as pd\n",
    "import numpy as np\n",
    "\n",
    "# Load the dataset\n",
    "file_path = 'dataset.csv'  # Update this path to your dataset\n",
    "data = pd.read_csv(file_path, low_memory=False)\n",
    "\n",
    "# Update the customer identifier column name\n",
    "id_column = 'Customer No'  # Assuming 'Customer No' is the correct column\n",
    "\n",
    "# Drop unwanted columns\n",
    "columns_to_delete = ['comment', 'cmment']  # Include all possible variations\n",
    "columns_present = [col for col in columns_to_delete if col in data.columns]\n",
    "data_cleaned = data.drop(columns=columns_present) if columns_present else data\n",
    "\n",
    "# Select columns that contain 'unit'\n",
    "energy_columns = [col for col in data_cleaned.columns if 'unit' in col and 'pre' in col]\n",
    "\n",
    "# Define the sliding window function\n",
    "def sliding_window(df, window_size):\n",
    "    sliding_data = []\n",
    "    column_names = []\n",
    "\n",
    "    # Create appropriate column names for the output DataFrame\n",
    "    for i in range(window_size):\n",
    "        lag = window_size - i - 1\n",
    "        column_names += [f\"{col}_t-{lag}\" for col in df.columns]\n",
    "\n",
    "    # Generate the sliding windows\n",
    "    for i in range(len(df) - window_size + 1):\n",
    "        window = df.iloc[i:i + window_size].values.flatten()\n",
    "        sliding_data.append(window)\n",
    "\n",
    "    # Create the DataFrame with sliding windows\n",
    "    sliding_df = pd.DataFrame(sliding_data, columns=column_names)\n",
    "\n",
    "    return sliding_df\n",
    "\n",
    "# Set window size\n",
    "window_size = 4  # Adjust the window size as needed\n",
    "\n",
    "# Apply sliding window on the cleaned data (after deleting unwanted columns)\n",
    "sliding_df = sliding_window(data_cleaned[energy_columns], window_size)\n",
    "\n",
    "# Add the 'Customer No' column back after the sliding window process\n",
    "# Since we're processing the entire dataset at once, we can simply slice the customer IDs accordingly\n",
    "sliding_df[id_column] = data_cleaned[id_column][window_size-1:].reset_index(drop=True)\n",
    "\n",
    "# Save the cleaned data\n",
    "output_file = 'pre_modi_data.csv'\n",
    "sliding_df.to_csv(output_file, index=False)\n",
    "\n",
    "# Output message\n",
    "print(f\"Sliding window data with 'Customer No' has been saved to {output_file}\")\n"
   ]
  },
  {
   "cell_type": "markdown",
   "metadata": {},
   "source": [
    "# Postpaid"
   ]
  },
  {
   "cell_type": "code",
   "execution_count": 4,
   "metadata": {},
   "outputs": [
    {
     "name": "stdout",
     "output_type": "stream",
     "text": [
      "Sliding window data with 'Customer No' has been saved to post_modi_data.csv\n"
     ]
    }
   ],
   "source": [
    "import pandas as pd\n",
    "import numpy as np\n",
    "\n",
    "# Load the dataset\n",
    "file_path = 'dataset.csv'  # Update this path to your dataset\n",
    "data = pd.read_csv(file_path, low_memory=False)\n",
    "\n",
    "# Update the customer identifier column name\n",
    "id_column = 'Customer No'  # Assuming 'Customer No' is the correct column\n",
    "\n",
    "# Drop unwanted columns\n",
    "columns_to_delete = ['comment', 'cmment']  # Include all possible variations\n",
    "columns_present = [col for col in columns_to_delete if col in data.columns]\n",
    "data_cleaned = data.drop(columns=columns_present) if columns_present else data\n",
    "\n",
    "# Select columns that contain 'unit'\n",
    "energy_columns = [col for col in data_cleaned.columns if 'unit' in col and 'post' in col]\n",
    "\n",
    "# Define the sliding window function\n",
    "def sliding_window(df, window_size):\n",
    "    sliding_data = []\n",
    "    column_names = []\n",
    "\n",
    "    # Create appropriate column names for the output DataFrame\n",
    "    for i in range(window_size):\n",
    "        lag = window_size - i - 1\n",
    "        column_names += [f\"{col}_t-{lag}\" for col in df.columns]\n",
    "\n",
    "    # Generate the sliding windows\n",
    "    for i in range(len(df) - window_size + 1):\n",
    "        window = df.iloc[i:i + window_size].values.flatten()\n",
    "        sliding_data.append(window)\n",
    "\n",
    "    # Create the DataFrame with sliding windows\n",
    "    sliding_df = pd.DataFrame(sliding_data, columns=column_names)\n",
    "\n",
    "    return sliding_df\n",
    "\n",
    "# Set window size\n",
    "window_size = 4  # Adjust the window size as needed\n",
    "\n",
    "# Apply sliding window on the cleaned data (after deleting unwanted columns)\n",
    "sliding_df = sliding_window(data_cleaned[energy_columns], window_size)\n",
    "\n",
    "# Add the 'Customer No' column back after the sliding window process\n",
    "# Since we're processing the entire dataset at once, we can simply slice the customer IDs accordingly\n",
    "sliding_df[id_column] = data_cleaned[id_column][window_size-1:].reset_index(drop=True)\n",
    "\n",
    "# Save the cleaned data\n",
    "output_file = 'post_modi_data.csv'\n",
    "sliding_df.to_csv(output_file, index=False)\n",
    "\n",
    "# Output message\n",
    "print(f\"Sliding window data with 'Customer No' has been saved to {output_file}\")\n",
    " "
   ]
  }
 ],
 "metadata": {
  "kernelspec": {
   "display_name": "Python 3",
   "language": "python",
   "name": "python3"
  },
  "language_info": {
   "codemirror_mode": {
    "name": "ipython",
    "version": 3
   },
   "file_extension": ".py",
   "mimetype": "text/x-python",
   "name": "python",
   "nbconvert_exporter": "python",
   "pygments_lexer": "ipython3",
   "version": "3.12.7"
  }
 },
 "nbformat": 4,
 "nbformat_minor": 2
}
